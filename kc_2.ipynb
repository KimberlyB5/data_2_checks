{
 "cells": [
  {
   "cell_type": "code",
   "execution_count": 1,
   "id": "3603bf3e",
   "metadata": {},
   "outputs": [],
   "source": [
    "import pandas as pd\n",
    "import numpy as np\n",
    "import os"
   ]
  },
  {
   "cell_type": "code",
   "execution_count": 2,
   "id": "c6bcbafc",
   "metadata": {},
   "outputs": [
    {
     "data": {
      "text/html": [
       "<div>\n",
       "<style scoped>\n",
       "    .dataframe tbody tr th:only-of-type {\n",
       "        vertical-align: middle;\n",
       "    }\n",
       "\n",
       "    .dataframe tbody tr th {\n",
       "        vertical-align: top;\n",
       "    }\n",
       "\n",
       "    .dataframe thead th {\n",
       "        text-align: right;\n",
       "    }\n",
       "</style>\n",
       "<table border=\"1\" class=\"dataframe\">\n",
       "  <thead>\n",
       "    <tr style=\"text-align: right;\">\n",
       "      <th></th>\n",
       "      <th>DATE_REPORTED</th>\n",
       "      <th>CRIME_TYPE</th>\n",
       "    </tr>\n",
       "  </thead>\n",
       "  <tbody>\n",
       "    <tr>\n",
       "      <th>0</th>\n",
       "      <td>2022-01-01 09:10:00</td>\n",
       "      <td>ASSAULT</td>\n",
       "    </tr>\n",
       "    <tr>\n",
       "      <th>1</th>\n",
       "      <td>2022-01-01 00:26:00</td>\n",
       "      <td>VANDALISM</td>\n",
       "    </tr>\n",
       "    <tr>\n",
       "      <th>2</th>\n",
       "      <td>2022-01-01 00:56:00</td>\n",
       "      <td>VEHICLE BREAK-IN/THEFT</td>\n",
       "    </tr>\n",
       "    <tr>\n",
       "      <th>3</th>\n",
       "      <td>2022-01-01 01:14:00</td>\n",
       "      <td>VANDALISM</td>\n",
       "    </tr>\n",
       "    <tr>\n",
       "      <th>4</th>\n",
       "      <td>2022-01-01 01:21:00</td>\n",
       "      <td>BURGLARY</td>\n",
       "    </tr>\n",
       "    <tr>\n",
       "      <th>...</th>\n",
       "      <td>...</td>\n",
       "      <td>...</td>\n",
       "    </tr>\n",
       "    <tr>\n",
       "      <th>56323</th>\n",
       "      <td>2022-10-17 14:47:00</td>\n",
       "      <td>THEFT/LARCENY</td>\n",
       "    </tr>\n",
       "    <tr>\n",
       "      <th>56324</th>\n",
       "      <td>2022-10-17 15:30:00</td>\n",
       "      <td>ASSAULT</td>\n",
       "    </tr>\n",
       "    <tr>\n",
       "      <th>56325</th>\n",
       "      <td>2022-10-17 15:31:00</td>\n",
       "      <td>OTHER</td>\n",
       "    </tr>\n",
       "    <tr>\n",
       "      <th>56326</th>\n",
       "      <td>2022-10-17 15:14:00</td>\n",
       "      <td>FRAUD</td>\n",
       "    </tr>\n",
       "    <tr>\n",
       "      <th>56327</th>\n",
       "      <td>2022-10-17 16:00:00</td>\n",
       "      <td>ROBBERY</td>\n",
       "    </tr>\n",
       "  </tbody>\n",
       "</table>\n",
       "<p>56328 rows × 2 columns</p>\n",
       "</div>"
      ],
      "text/plain": [
       "            DATE_REPORTED              CRIME_TYPE\n",
       "0     2022-01-01 09:10:00                 ASSAULT\n",
       "1     2022-01-01 00:26:00               VANDALISM\n",
       "2     2022-01-01 00:56:00  VEHICLE BREAK-IN/THEFT\n",
       "3     2022-01-01 01:14:00               VANDALISM\n",
       "4     2022-01-01 01:21:00                BURGLARY\n",
       "...                   ...                     ...\n",
       "56323 2022-10-17 14:47:00           THEFT/LARCENY\n",
       "56324 2022-10-17 15:30:00                 ASSAULT\n",
       "56325 2022-10-17 15:31:00                   OTHER\n",
       "56326 2022-10-17 15:14:00                   FRAUD\n",
       "56327 2022-10-17 16:00:00                 ROBBERY\n",
       "\n",
       "[56328 rows x 2 columns]"
      ]
     },
     "execution_count": 2,
     "metadata": {},
     "output_type": "execute_result"
    }
   ],
   "source": [
    "Lou = pd.read_csv(os.path.join(\"C:\\\\Users\\\\kam52\\\\OneDrive\\\\Desktop\\\\DA2\\\\Comparing-Crime-LouisvilleKY-MemphisTN\\\\Louisville_Metro_KY_-_Crime_Data_2022.csv\"),\n",
    "                 parse_dates=['DATE_REPORTED'], usecols = ['DATE_REPORTED', 'CRIME_TYPE'])\n",
    "Lou"
   ]
  },
  {
   "cell_type": "code",
   "execution_count": 3,
   "id": "a0951093",
   "metadata": {},
   "outputs": [
    {
     "data": {
      "text/plain": [
       "DATE_REPORTED    datetime64[ns]\n",
       "CRIME_TYPE               object\n",
       "dtype: object"
      ]
     },
     "execution_count": 3,
     "metadata": {},
     "output_type": "execute_result"
    }
   ],
   "source": [
    "Lou.dtypes"
   ]
  },
  {
   "cell_type": "code",
   "execution_count": null,
   "id": "eeba5273",
   "metadata": {},
   "outputs": [],
   "source": [
    "#Remove null values"
   ]
  },
  {
   "cell_type": "code",
   "execution_count": 11,
   "id": "4f7bf73c",
   "metadata": {},
   "outputs": [],
   "source": [
    "Lou = Lou.dropna()"
   ]
  },
  {
   "cell_type": "code",
   "execution_count": null,
   "id": "cb8f1aad",
   "metadata": {},
   "outputs": [],
   "source": [
    "#Seperate date and time"
   ]
  },
  {
   "cell_type": "code",
   "execution_count": 4,
   "id": "528e3eec",
   "metadata": {},
   "outputs": [
    {
     "data": {
      "text/html": [
       "<div>\n",
       "<style scoped>\n",
       "    .dataframe tbody tr th:only-of-type {\n",
       "        vertical-align: middle;\n",
       "    }\n",
       "\n",
       "    .dataframe tbody tr th {\n",
       "        vertical-align: top;\n",
       "    }\n",
       "\n",
       "    .dataframe thead th {\n",
       "        text-align: right;\n",
       "    }\n",
       "</style>\n",
       "<table border=\"1\" class=\"dataframe\">\n",
       "  <thead>\n",
       "    <tr style=\"text-align: right;\">\n",
       "      <th></th>\n",
       "      <th>DATE_REPORTED</th>\n",
       "      <th>CRIME_TYPE</th>\n",
       "      <th>DATE</th>\n",
       "      <th>TIME</th>\n",
       "    </tr>\n",
       "  </thead>\n",
       "  <tbody>\n",
       "    <tr>\n",
       "      <th>0</th>\n",
       "      <td>2022-01-01 09:10:00</td>\n",
       "      <td>ASSAULT</td>\n",
       "      <td>2022-01-01</td>\n",
       "      <td>09:10:00</td>\n",
       "    </tr>\n",
       "    <tr>\n",
       "      <th>1</th>\n",
       "      <td>2022-01-01 00:26:00</td>\n",
       "      <td>VANDALISM</td>\n",
       "      <td>2022-01-01</td>\n",
       "      <td>00:26:00</td>\n",
       "    </tr>\n",
       "    <tr>\n",
       "      <th>2</th>\n",
       "      <td>2022-01-01 00:56:00</td>\n",
       "      <td>VEHICLE BREAK-IN/THEFT</td>\n",
       "      <td>2022-01-01</td>\n",
       "      <td>00:56:00</td>\n",
       "    </tr>\n",
       "    <tr>\n",
       "      <th>3</th>\n",
       "      <td>2022-01-01 01:14:00</td>\n",
       "      <td>VANDALISM</td>\n",
       "      <td>2022-01-01</td>\n",
       "      <td>01:14:00</td>\n",
       "    </tr>\n",
       "    <tr>\n",
       "      <th>4</th>\n",
       "      <td>2022-01-01 01:21:00</td>\n",
       "      <td>BURGLARY</td>\n",
       "      <td>2022-01-01</td>\n",
       "      <td>01:21:00</td>\n",
       "    </tr>\n",
       "    <tr>\n",
       "      <th>...</th>\n",
       "      <td>...</td>\n",
       "      <td>...</td>\n",
       "      <td>...</td>\n",
       "      <td>...</td>\n",
       "    </tr>\n",
       "    <tr>\n",
       "      <th>56323</th>\n",
       "      <td>2022-10-17 14:47:00</td>\n",
       "      <td>THEFT/LARCENY</td>\n",
       "      <td>2022-10-17</td>\n",
       "      <td>14:47:00</td>\n",
       "    </tr>\n",
       "    <tr>\n",
       "      <th>56324</th>\n",
       "      <td>2022-10-17 15:30:00</td>\n",
       "      <td>ASSAULT</td>\n",
       "      <td>2022-10-17</td>\n",
       "      <td>15:30:00</td>\n",
       "    </tr>\n",
       "    <tr>\n",
       "      <th>56325</th>\n",
       "      <td>2022-10-17 15:31:00</td>\n",
       "      <td>OTHER</td>\n",
       "      <td>2022-10-17</td>\n",
       "      <td>15:31:00</td>\n",
       "    </tr>\n",
       "    <tr>\n",
       "      <th>56326</th>\n",
       "      <td>2022-10-17 15:14:00</td>\n",
       "      <td>FRAUD</td>\n",
       "      <td>2022-10-17</td>\n",
       "      <td>15:14:00</td>\n",
       "    </tr>\n",
       "    <tr>\n",
       "      <th>56327</th>\n",
       "      <td>2022-10-17 16:00:00</td>\n",
       "      <td>ROBBERY</td>\n",
       "      <td>2022-10-17</td>\n",
       "      <td>16:00:00</td>\n",
       "    </tr>\n",
       "  </tbody>\n",
       "</table>\n",
       "<p>56328 rows × 4 columns</p>\n",
       "</div>"
      ],
      "text/plain": [
       "            DATE_REPORTED              CRIME_TYPE        DATE      TIME\n",
       "0     2022-01-01 09:10:00                 ASSAULT  2022-01-01  09:10:00\n",
       "1     2022-01-01 00:26:00               VANDALISM  2022-01-01  00:26:00\n",
       "2     2022-01-01 00:56:00  VEHICLE BREAK-IN/THEFT  2022-01-01  00:56:00\n",
       "3     2022-01-01 01:14:00               VANDALISM  2022-01-01  01:14:00\n",
       "4     2022-01-01 01:21:00                BURGLARY  2022-01-01  01:21:00\n",
       "...                   ...                     ...         ...       ...\n",
       "56323 2022-10-17 14:47:00           THEFT/LARCENY  2022-10-17  14:47:00\n",
       "56324 2022-10-17 15:30:00                 ASSAULT  2022-10-17  15:30:00\n",
       "56325 2022-10-17 15:31:00                   OTHER  2022-10-17  15:31:00\n",
       "56326 2022-10-17 15:14:00                   FRAUD  2022-10-17  15:14:00\n",
       "56327 2022-10-17 16:00:00                 ROBBERY  2022-10-17  16:00:00\n",
       "\n",
       "[56328 rows x 4 columns]"
      ]
     },
     "execution_count": 4,
     "metadata": {},
     "output_type": "execute_result"
    }
   ],
   "source": [
    "Lou['DATE'] = [d.date() for d in Lou['DATE_REPORTED']]\n",
    "Lou['TIME'] = [d.time() for d in Lou['DATE_REPORTED']]\n",
    "Lou"
   ]
  },
  {
   "cell_type": "code",
   "execution_count": 5,
   "id": "1dc8d3dd",
   "metadata": {},
   "outputs": [
    {
     "data": {
      "text/plain": [
       "DATE_REPORTED    datetime64[ns]\n",
       "CRIME_TYPE               object\n",
       "DATE                     object\n",
       "TIME                     object\n",
       "dtype: object"
      ]
     },
     "execution_count": 5,
     "metadata": {},
     "output_type": "execute_result"
    }
   ],
   "source": [
    "Lou.dtypes"
   ]
  },
  {
   "cell_type": "code",
   "execution_count": null,
   "id": "4530c525",
   "metadata": {},
   "outputs": [],
   "source": [
    "#fix date column type"
   ]
  },
  {
   "cell_type": "code",
   "execution_count": 6,
   "id": "f1386d88",
   "metadata": {},
   "outputs": [
    {
     "data": {
      "text/plain": [
       "DATE_REPORTED    datetime64[ns]\n",
       "CRIME_TYPE               object\n",
       "DATE             datetime64[ns]\n",
       "TIME                     object\n",
       "dtype: object"
      ]
     },
     "execution_count": 6,
     "metadata": {},
     "output_type": "execute_result"
    }
   ],
   "source": [
    "Lou[\"DATE\"] = pd.to_datetime(Lou[\"DATE\"])\n",
    "Lou.dtypes"
   ]
  },
  {
   "cell_type": "code",
   "execution_count": null,
   "id": "d965c5ca",
   "metadata": {},
   "outputs": [],
   "source": [
    "#drop columns that wont be used"
   ]
  },
  {
   "cell_type": "code",
   "execution_count": 7,
   "id": "a103a3d6",
   "metadata": {},
   "outputs": [
    {
     "data": {
      "text/html": [
       "<div>\n",
       "<style scoped>\n",
       "    .dataframe tbody tr th:only-of-type {\n",
       "        vertical-align: middle;\n",
       "    }\n",
       "\n",
       "    .dataframe tbody tr th {\n",
       "        vertical-align: top;\n",
       "    }\n",
       "\n",
       "    .dataframe thead th {\n",
       "        text-align: right;\n",
       "    }\n",
       "</style>\n",
       "<table border=\"1\" class=\"dataframe\">\n",
       "  <thead>\n",
       "    <tr style=\"text-align: right;\">\n",
       "      <th></th>\n",
       "      <th>CRIME_TYPE</th>\n",
       "      <th>DATE</th>\n",
       "    </tr>\n",
       "  </thead>\n",
       "  <tbody>\n",
       "    <tr>\n",
       "      <th>0</th>\n",
       "      <td>ASSAULT</td>\n",
       "      <td>2022-01-01</td>\n",
       "    </tr>\n",
       "    <tr>\n",
       "      <th>1</th>\n",
       "      <td>VANDALISM</td>\n",
       "      <td>2022-01-01</td>\n",
       "    </tr>\n",
       "    <tr>\n",
       "      <th>2</th>\n",
       "      <td>VEHICLE BREAK-IN/THEFT</td>\n",
       "      <td>2022-01-01</td>\n",
       "    </tr>\n",
       "    <tr>\n",
       "      <th>3</th>\n",
       "      <td>VANDALISM</td>\n",
       "      <td>2022-01-01</td>\n",
       "    </tr>\n",
       "    <tr>\n",
       "      <th>4</th>\n",
       "      <td>BURGLARY</td>\n",
       "      <td>2022-01-01</td>\n",
       "    </tr>\n",
       "    <tr>\n",
       "      <th>...</th>\n",
       "      <td>...</td>\n",
       "      <td>...</td>\n",
       "    </tr>\n",
       "    <tr>\n",
       "      <th>56323</th>\n",
       "      <td>THEFT/LARCENY</td>\n",
       "      <td>2022-10-17</td>\n",
       "    </tr>\n",
       "    <tr>\n",
       "      <th>56324</th>\n",
       "      <td>ASSAULT</td>\n",
       "      <td>2022-10-17</td>\n",
       "    </tr>\n",
       "    <tr>\n",
       "      <th>56325</th>\n",
       "      <td>OTHER</td>\n",
       "      <td>2022-10-17</td>\n",
       "    </tr>\n",
       "    <tr>\n",
       "      <th>56326</th>\n",
       "      <td>FRAUD</td>\n",
       "      <td>2022-10-17</td>\n",
       "    </tr>\n",
       "    <tr>\n",
       "      <th>56327</th>\n",
       "      <td>ROBBERY</td>\n",
       "      <td>2022-10-17</td>\n",
       "    </tr>\n",
       "  </tbody>\n",
       "</table>\n",
       "<p>56328 rows × 2 columns</p>\n",
       "</div>"
      ],
      "text/plain": [
       "                   CRIME_TYPE       DATE\n",
       "0                     ASSAULT 2022-01-01\n",
       "1                   VANDALISM 2022-01-01\n",
       "2      VEHICLE BREAK-IN/THEFT 2022-01-01\n",
       "3                   VANDALISM 2022-01-01\n",
       "4                    BURGLARY 2022-01-01\n",
       "...                       ...        ...\n",
       "56323           THEFT/LARCENY 2022-10-17\n",
       "56324                 ASSAULT 2022-10-17\n",
       "56325                   OTHER 2022-10-17\n",
       "56326                   FRAUD 2022-10-17\n",
       "56327                 ROBBERY 2022-10-17\n",
       "\n",
       "[56328 rows x 2 columns]"
      ]
     },
     "execution_count": 7,
     "metadata": {},
     "output_type": "execute_result"
    }
   ],
   "source": [
    "Lou.drop([\"DATE_REPORTED\", \"TIME\"], axis=1, inplace=True)    \n",
    "Lou"
   ]
  },
  {
   "cell_type": "code",
   "execution_count": null,
   "id": "e9be05ac",
   "metadata": {},
   "outputs": [],
   "source": [
    "#Rename the column to match another df column "
   ]
  },
  {
   "cell_type": "code",
   "execution_count": 8,
   "id": "0881c158",
   "metadata": {},
   "outputs": [
    {
     "data": {
      "text/html": [
       "<div>\n",
       "<style scoped>\n",
       "    .dataframe tbody tr th:only-of-type {\n",
       "        vertical-align: middle;\n",
       "    }\n",
       "\n",
       "    .dataframe tbody tr th {\n",
       "        vertical-align: top;\n",
       "    }\n",
       "\n",
       "    .dataframe thead th {\n",
       "        text-align: right;\n",
       "    }\n",
       "</style>\n",
       "<table border=\"1\" class=\"dataframe\">\n",
       "  <thead>\n",
       "    <tr style=\"text-align: right;\">\n",
       "      <th></th>\n",
       "      <th>CATEGORY</th>\n",
       "      <th>DATE</th>\n",
       "    </tr>\n",
       "  </thead>\n",
       "  <tbody>\n",
       "    <tr>\n",
       "      <th>0</th>\n",
       "      <td>ASSAULT</td>\n",
       "      <td>2022-01-01</td>\n",
       "    </tr>\n",
       "    <tr>\n",
       "      <th>1</th>\n",
       "      <td>VANDALISM</td>\n",
       "      <td>2022-01-01</td>\n",
       "    </tr>\n",
       "    <tr>\n",
       "      <th>2</th>\n",
       "      <td>VEHICLE BREAK-IN/THEFT</td>\n",
       "      <td>2022-01-01</td>\n",
       "    </tr>\n",
       "    <tr>\n",
       "      <th>3</th>\n",
       "      <td>VANDALISM</td>\n",
       "      <td>2022-01-01</td>\n",
       "    </tr>\n",
       "    <tr>\n",
       "      <th>4</th>\n",
       "      <td>BURGLARY</td>\n",
       "      <td>2022-01-01</td>\n",
       "    </tr>\n",
       "    <tr>\n",
       "      <th>...</th>\n",
       "      <td>...</td>\n",
       "      <td>...</td>\n",
       "    </tr>\n",
       "    <tr>\n",
       "      <th>56323</th>\n",
       "      <td>THEFT/LARCENY</td>\n",
       "      <td>2022-10-17</td>\n",
       "    </tr>\n",
       "    <tr>\n",
       "      <th>56324</th>\n",
       "      <td>ASSAULT</td>\n",
       "      <td>2022-10-17</td>\n",
       "    </tr>\n",
       "    <tr>\n",
       "      <th>56325</th>\n",
       "      <td>OTHER</td>\n",
       "      <td>2022-10-17</td>\n",
       "    </tr>\n",
       "    <tr>\n",
       "      <th>56326</th>\n",
       "      <td>FRAUD</td>\n",
       "      <td>2022-10-17</td>\n",
       "    </tr>\n",
       "    <tr>\n",
       "      <th>56327</th>\n",
       "      <td>ROBBERY</td>\n",
       "      <td>2022-10-17</td>\n",
       "    </tr>\n",
       "  </tbody>\n",
       "</table>\n",
       "<p>56328 rows × 2 columns</p>\n",
       "</div>"
      ],
      "text/plain": [
       "                     CATEGORY       DATE\n",
       "0                     ASSAULT 2022-01-01\n",
       "1                   VANDALISM 2022-01-01\n",
       "2      VEHICLE BREAK-IN/THEFT 2022-01-01\n",
       "3                   VANDALISM 2022-01-01\n",
       "4                    BURGLARY 2022-01-01\n",
       "...                       ...        ...\n",
       "56323           THEFT/LARCENY 2022-10-17\n",
       "56324                 ASSAULT 2022-10-17\n",
       "56325                   OTHER 2022-10-17\n",
       "56326                   FRAUD 2022-10-17\n",
       "56327                 ROBBERY 2022-10-17\n",
       "\n",
       "[56328 rows x 2 columns]"
      ]
     },
     "execution_count": 8,
     "metadata": {},
     "output_type": "execute_result"
    }
   ],
   "source": [
    "lou2 = Lou.rename({'CRIME_TYPE': 'CATEGORY'}, axis=1)\n",
    "lou2"
   ]
  },
  {
   "cell_type": "code",
   "execution_count": null,
   "id": "68b9401a",
   "metadata": {},
   "outputs": [],
   "source": [
    "#organize crimes into 2 categories based on type of crime"
   ]
  },
  {
   "cell_type": "code",
   "execution_count": 9,
   "id": "6fa271c2",
   "metadata": {},
   "outputs": [],
   "source": [
    "for index in lou2.index:\n",
    "    if lou2.loc[index,'CATEGORY']=='ASSAULT':\n",
    "        lou2.loc[index,'CATEGORY'] = 'Major Violent Crime'\n",
    "    elif lou2.loc[index,'CATEGORY']=='ROBBERY':\n",
    "        lou2.loc[index,'CATEGORY'] = 'Major Violent Crime'\n",
    "    elif lou2.loc[index,'CATEGORY']=='SEX CRIMES':\n",
    "        lou2.loc[index,'CATEGORY'] = 'Major Violent Crime'\n",
    "    elif lou2.loc[index,'CATEGORY']=='HOMICIDE':\n",
    "        lou2.loc[index,'CATEGORY'] = 'Major Violent Crime'\n",
    "    elif lou2.loc[index,'CATEGORY']=='VEHICLE BREAK-IN/THEFT':\n",
    "        lou2.loc[index,'CATEGORY'] = 'Major Property Crime'\n",
    "    elif lou2.loc[index,'CATEGORY']=='BURGLARY':\n",
    "        lou2.loc[index,'CATEGORY'] = 'Major Property Crime'\n",
    "    elif lou2.loc[index,'CATEGORY']=='ARSON':\n",
    "        lou2.loc[index,'CATEGORY'] = 'Major Property Crime'\n",
    "    elif lou2.loc[index,'CATEGORY']=='MOTOR VEHICLE THEFT':\n",
    "        lou2.loc[index,'CATEGORY'] = 'Major Property Crime'\n",
    "    elif lou2.loc[index,'CATEGORY']=='THEFT/LARCENY':\n",
    "        lou2.loc[index,'CATEGORY'] = 'Major Property Crime'\n",
    "    elif lou2.loc[index,'CATEGORY']=='VANDALISM':\n",
    "        lou2.loc[index,'CATEGORY'] = 'Other'    \n",
    "    elif lou2.loc[index,'CATEGORY']=='DRUGS/ALCOHOL VIOLATIONS':\n",
    "        lou2.loc[index,'CATEGORY'] = 'Other'\n",
    "    elif lou2.loc[index,'CATEGORY']=='DISTURBING THE PEACE':\n",
    "        lou2.loc[index,'CATEGORY'] = 'Other'\n",
    "    elif lou2.loc[index,'CATEGORY']=='FRAUD':\n",
    "        lou2.loc[index,'CATEGORY'] = 'Other' \n",
    "    elif lou2.loc[index,'CATEGORY']=='WEAPONS':\n",
    "        lou2.loc[index,'CATEGORY'] = 'Other'    \n",
    "    elif lou2.loc[index,'CATEGORY']=='DUI':\n",
    "        lou2.loc[index,'CATEGORY'] = 'Other'"
   ]
  },
  {
   "cell_type": "code",
   "execution_count": 10,
   "id": "2816422e",
   "metadata": {},
   "outputs": [
    {
     "name": "stdout",
     "output_type": "stream",
     "text": [
      "                   CATEGORY       DATE\n",
      "0       Major Violent Crime 2022-01-01\n",
      "1                     Other 2022-01-01\n",
      "2      Major Property Crime 2022-01-01\n",
      "3                     Other 2022-01-01\n",
      "4      Major Property Crime 2022-01-01\n",
      "...                     ...        ...\n",
      "56323  Major Property Crime 2022-10-17\n",
      "56324   Major Violent Crime 2022-10-17\n",
      "56325                 OTHER 2022-10-17\n",
      "56326                 Other 2022-10-17\n",
      "56327   Major Violent Crime 2022-10-17\n",
      "\n",
      "[56328 rows x 2 columns]\n"
     ]
    }
   ],
   "source": [
    "print(lou2)"
   ]
  },
  {
   "cell_type": "code",
   "execution_count": null,
   "id": "aace98be",
   "metadata": {},
   "outputs": [],
   "source": []
  }
 ],
 "metadata": {
  "kernelspec": {
   "display_name": "Python 3 (ipykernel)",
   "language": "python",
   "name": "python3"
  },
  "language_info": {
   "codemirror_mode": {
    "name": "ipython",
    "version": 3
   },
   "file_extension": ".py",
   "mimetype": "text/x-python",
   "name": "python",
   "nbconvert_exporter": "python",
   "pygments_lexer": "ipython3",
   "version": "3.9.12"
  }
 },
 "nbformat": 4,
 "nbformat_minor": 5
}
